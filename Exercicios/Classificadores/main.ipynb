{
 "cells": [
  {
   "cell_type": "code",
   "execution_count": 3,
   "metadata": {},
   "outputs": [],
   "source": [
    "# Importando as bibliotecas necessárias\n",
    "import numpy as np\n",
    "import pandas as pd\n",
    "from sklearn.model_selection import train_test_split\n",
    "from sklearn.preprocessing import StandardScaler\n",
    "from sklearn.metrics import accuracy_score, recall_score, f1_score, classification_report\n",
    "from sklearn.svm import SVC\n",
    "from sklearn.neighbors import KNeighborsClassifier"
   ]
  },
  {
   "cell_type": "code",
   "execution_count": 4,
   "metadata": {},
   "outputs": [],
   "source": [
    "# Carregando o dataset\n",
    "data_set = pd.read_csv('https://raw.githubusercontent.com/celsocrivelaro/simple-datasets/main/user_data.csv')\n",
    "\n",
    "# Selecionando features e rótulo\n",
    "X = data_set.iloc[:, [2, 3]].values  # Features: Age and EstimatedSalary\n",
    "y = data_set.iloc[:, 4].values        # Target: Purchased\n",
    "\n",
    "# Dividindo os dados em conjunto de treino e teste\n",
    "X_train, X_test, y_train, y_test = train_test_split(X, y, test_size=0.25, random_state=0)"
   ]
  },
  {
   "cell_type": "code",
   "execution_count": 5,
   "metadata": {},
   "outputs": [],
   "source": [
    "# Normalizando os dados\n",
    "scaler = StandardScaler()\n",
    "X_train = scaler.fit_transform(X_train)\n",
    "X_test = scaler.transform(X_test)"
   ]
  },
  {
   "cell_type": "code",
   "execution_count": 6,
   "metadata": {},
   "outputs": [],
   "source": [
    "# treinar e avaliar um modelo\n",
    "def evaluate_model(model, X_train, X_test, y_train, y_test):\n",
    "    model.fit(X_train, y_train)\n",
    "    y_pred = model.predict(X_test)\n",
    "    accuracy = accuracy_score(y_test, y_pred)\n",
    "    recall = recall_score(y_test, y_pred)\n",
    "    f1 = f1_score(y_test, y_pred)\n",
    "    print(classification_report(y_test, y_pred, target_names=[\"Não comprador\", \"Comprador\"]))\n",
    "    return accuracy, recall, f1"
   ]
  },
  {
   "cell_type": "markdown",
   "metadata": {},
   "source": [
    "# Escolhendo Classificadores"
   ]
  },
  {
   "cell_type": "markdown",
   "metadata": {},
   "source": [
    "SVM é uma boa escolha para dados simples, pois busca a melhor linha para separar as classes e lida bem com alguns valores fora do padrão.\n",
    "KNN classifica com base nos dados mais próximos, sendo eficaz em conjuntos pequenos onde os dados formam grupos, como é o caso com idade e salário.\n",
    "\n",
    "Esses modelos são ideais aqui pela simplicidade e eficiência em problemas de classificação com poucas variáveis."
   ]
  },
  {
   "cell_type": "code",
   "execution_count": 7,
   "metadata": {},
   "outputs": [
    {
     "name": "stdout",
     "output_type": "stream",
     "text": [
      "SVM Results:\n",
      "               precision    recall  f1-score   support\n",
      "\n",
      "Não comprador       0.89      0.97      0.93        68\n",
      "    Comprador       0.92      0.75      0.83        32\n",
      "\n",
      "     accuracy                           0.90       100\n",
      "    macro avg       0.91      0.86      0.88       100\n",
      " weighted avg       0.90      0.90      0.90       100\n",
      "\n"
     ]
    }
   ],
   "source": [
    "# Testando modelo SVM\n",
    "print(\"SVM Results:\")\n",
    "svm_model = SVC(kernel='linear', random_state=0)\n",
    "svm_accuracy, svm_recall, svm_f1 = evaluate_model(svm_model, X_train, X_test, y_train, y_test)"
   ]
  },
  {
   "cell_type": "code",
   "execution_count": 8,
   "metadata": {},
   "outputs": [
    {
     "name": "stdout",
     "output_type": "stream",
     "text": [
      "\n",
      "KNN Results:\n",
      "               precision    recall  f1-score   support\n",
      "\n",
      "Não comprador       0.96      0.94      0.95        68\n",
      "    Comprador       0.88      0.91      0.89        32\n",
      "\n",
      "     accuracy                           0.93       100\n",
      "    macro avg       0.92      0.92      0.92       100\n",
      " weighted avg       0.93      0.93      0.93       100\n",
      "\n"
     ]
    }
   ],
   "source": [
    "# Testando modelo KNN\n",
    "print(\"\\nKNN Results:\")\n",
    "knn_model = KNeighborsClassifier(n_neighbors=5)  # n_neighbors pode ser ajustado conforme o resultado\n",
    "knn_accuracy, knn_recall, knn_f1 = evaluate_model(knn_model, X_train, X_test, y_train, y_test)"
   ]
  },
  {
   "cell_type": "code",
   "execution_count": 9,
   "metadata": {},
   "outputs": [
    {
     "name": "stdout",
     "output_type": "stream",
     "text": [
      "\n",
      "Comparação de Modelos:\n",
      "SVM - Acurácia: 0.90, Recall: 0.75, F1-Score: 0.83\n",
      "KNN - Acurácia: 0.93, Recall: 0.91, F1-Score: 0.89\n"
     ]
    }
   ],
   "source": [
    "# resultados para comparação\n",
    "print(\"\\nComparação de Modelos:\")\n",
    "print(f\"SVM - Acurácia: {svm_accuracy:.2f}, Recall: {svm_recall:.2f}, F1-Score: {svm_f1:.2f}\")\n",
    "print(f\"KNN - Acurácia: {knn_accuracy:.2f}, Recall: {knn_recall:.2f}, F1-Score: {knn_f1:.2f}\")"
   ]
  },
  {
   "cell_type": "markdown",
   "metadata": {},
   "source": [
    "# RESULTADO"
   ]
  },
  {
   "cell_type": "markdown",
   "metadata": {},
   "source": [
    "Com esses resultados, o KNN é a melhor opção, pois:\n",
    "\n",
    "Obteve uma acurácia um pouco superior e apresentou um recall e F1-score mais altos na classe \"Comprador\", o que é vantajoso se o objetivo é minimizar falsos negativos."
   ]
  }
 ],
 "metadata": {
  "kernelspec": {
   "display_name": "Python 3",
   "language": "python",
   "name": "python3"
  },
  "language_info": {
   "codemirror_mode": {
    "name": "ipython",
    "version": 3
   },
   "file_extension": ".py",
   "mimetype": "text/x-python",
   "name": "python",
   "nbconvert_exporter": "python",
   "pygments_lexer": "ipython3",
   "version": "3.12.0"
  }
 },
 "nbformat": 4,
 "nbformat_minor": 2
}
