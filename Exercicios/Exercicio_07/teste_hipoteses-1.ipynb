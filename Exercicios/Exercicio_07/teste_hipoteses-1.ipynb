{
 "cells": [
  {
   "cell_type": "markdown",
   "metadata": {},
   "source": [
    "Pediatras estão avaliando o uso de fórmulas com o ganho de peso em bebês (em gramas). Foram coletados os seguintes grupos:\n",
    "\n",
    "Ganhos de peso em bebês que recebem apenas leito materno\n",
    "Ganhos de peso em bebês que recebem apenas fórmula\n",
    "Ganhos de peso em bebês que recebem ambos\n",
    "Conduza um teste de hipótese que verifique se há diferença entre as alimentações dos bebês.\n",
    "\n",
    "Defina a hipótese nula e alternativa Defina alfa\n",
    "\n",
    "Explique o que aconteceria em:\n",
    "\n",
    "Erro do tipo I\n",
    "Erro do tipo II"
   ]
  },
  {
   "cell_type": "markdown",
   "metadata": {},
   "source": [
    "H0:$ media materno = media formula = media ambos$\n",
    "<br>\n",
    "H1: $media materno \\neq media formula \\neq media ambos$"
   ]
  },
  {
   "cell_type": "code",
   "execution_count": 1,
   "metadata": {},
   "outputs": [],
   "source": [
    "import numpy as np\n",
    "from scipy import stats\n",
    "import pandas as pd\n",
    "import scikit_posthocs as sp\n",
    "pd.options.display.float_format = '{:,.4f}'.format"
   ]
  },
  {
   "cell_type": "code",
   "execution_count": 2,
   "metadata": {},
   "outputs": [],
   "source": [
    "def checar_se_eh_parametrica(dados):\n",
    "  test_stat, p_value = stats.normaltest(dados)\n",
    "  print(\"p value:%.4f\" % p_value)\n",
    "  if p_value >= 0.05:\n",
    "      print(\"É paramétrico\")\n",
    "  else:\n",
    "    print(\"Não é paramétrico\")"
   ]
  },
  {
   "cell_type": "code",
   "execution_count": 3,
   "metadata": {},
   "outputs": [],
   "source": [
    "apenas_materno=[794.1, 716.9, 993. , 724.7, 760.9, 908.2, 659.3 , 690.8, 768.7, 717.3 , 630.7, 729.5, 714.1, 810.3, 583.5, 679.9, 865.1]\n",
    "apenas_formula=[ 898.8, 881.2, 940.2, 966.2, 957.5, 1061.7, 1046.2, 980.4, 895.6, 919.7, 1074.1, 952.5, 796.3, 859.6, 871.1 , 1047.5, 919.1 , 1160.5, 996.9]\n",
    "ambos=[976.4, 656.4, 861.2, 706.8, 718.5, 717.1, 759.8, 894.6, 867.6, 805.6, 765.4, 800.3, 789.9, 875.3, 740. , 799.4, 790.3, 795.2 , 823.6, 818.7, 926.8, 791.7, 948.3]"
   ]
  },
  {
   "cell_type": "code",
   "execution_count": 4,
   "metadata": {},
   "outputs": [
    {
     "name": "stdout",
     "output_type": "stream",
     "text": [
      "Materno\n",
      "p value:0.1900\n",
      "É paramétrico\n",
      "Formula\n",
      "p value:0.6396\n",
      "É paramétrico\n",
      "Ambos\n",
      "p value:0.7894\n",
      "É paramétrico\n"
     ]
    },
    {
     "name": "stderr",
     "output_type": "stream",
     "text": [
      "c:\\Users\\mrsilva\\AppData\\Local\\Programs\\Python\\Python312\\Lib\\site-packages\\scipy\\stats\\_axis_nan_policy.py:418: UserWarning: `kurtosistest` p-value may be inaccurate with fewer than 20 observations; only n=17 observations were given.\n",
      "  return hypotest_fun_in(*args, **kwds)\n",
      "c:\\Users\\mrsilva\\AppData\\Local\\Programs\\Python\\Python312\\Lib\\site-packages\\scipy\\stats\\_axis_nan_policy.py:418: UserWarning: `kurtosistest` p-value may be inaccurate with fewer than 20 observations; only n=19 observations were given.\n",
      "  return hypotest_fun_in(*args, **kwds)\n"
     ]
    }
   ],
   "source": [
    "print(\"Materno\")\n",
    "checar_se_eh_parametrica(apenas_materno)\n",
    "print(\"Formula\")\n",
    "checar_se_eh_parametrica(apenas_formula)\n",
    "print(\"Ambos\")\n",
    "checar_se_eh_parametrica(ambos)"
   ]
  },
  {
   "cell_type": "code",
   "execution_count": 5,
   "metadata": {},
   "outputs": [
    {
     "name": "stdout",
     "output_type": "stream",
     "text": [
      "F-statistic: 26.7013\n",
      "P-value: 0.0000\n",
      "Rejeitamos a hipótese nula: Há evidências de que há diferenças significativas nos ganhos de peso entre os grupos.\n"
     ]
    }
   ],
   "source": [
    "# Realizar o teste Mann Whitney\n",
    "f_stat, p_value = stats.f_oneway(apenas_materno,apenas_formula, ambos)\n",
    "# Exibir os resultados\n",
    "print(f\"F-statistic: {f_stat:.4f}\")\n",
    "print(f\"P-value: {p_value:.4f}\")\n",
    "\n",
    "# Verificar o resultado do teste com o nível de significância de 0.05\n",
    "if p_value < 0.05:\n",
    "    print(\"Rejeitamos a hipótese nula: Há evidências de que há diferenças significativas nos ganhos de peso entre os grupos.\")\n",
    "else:\n",
    "    print(\"Não rejeitamos a hipótese nula: Não há evidências suficientes para afirmar que há diferenças significativas nos ganhos de peso entre os grupos.\")"
   ]
  }
 ],
 "metadata": {
  "kernelspec": {
   "display_name": "Python 3",
   "language": "python",
   "name": "python3"
  },
  "language_info": {
   "codemirror_mode": {
    "name": "ipython",
    "version": 3
   },
   "file_extension": ".py",
   "mimetype": "text/x-python",
   "name": "python",
   "nbconvert_exporter": "python",
   "pygments_lexer": "ipython3",
   "version": "3.12.0"
  }
 },
 "nbformat": 4,
 "nbformat_minor": 2
}
