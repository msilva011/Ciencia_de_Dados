{
 "cells": [
  {
   "cell_type": "markdown",
   "metadata": {},
   "source": [
    "O RH de uma empresa de tecnologia está preocupada como excesso de horas extras. Decidiu comparar as horas extras do time de desenvolvimento com o time de testes.\n",
    "\n",
    "Para isto pegou 17 pessoas de cada time com horas extras. Um time está fazendo mais horas extras que o outro?\n",
    "\n",
    "Faça um teste com 0.05 de nível significância."
   ]
  },
  {
   "cell_type": "code",
   "execution_count": 9,
   "metadata": {},
   "outputs": [],
   "source": [
    "import numpy as np\n",
    "from scipy import stats\n",
    "import pandas as pd\n",
    "import scikit_posthocs as sp\n",
    "pd.options.display.float_format = '{:,.4f}'.format\n",
    "\n",
    "test_team=[6.2, 7.1, 1.5, 2,3 , 2, 1.5, 6.1, 2.4, 2.3, 12.4, 1.8, 5.3, 3.1, 9.4, 2.3, 4.1]\n",
    "developer_team=[2.3, 2.1, 1.4, 2.0, 8.7, 2.2, 3.1, 4.2, 3.6, 2.5, 3.1, 6.2, 12.1, 3.9, 2.2, 1.2 ,3.4]"
   ]
  },
  {
   "cell_type": "code",
   "execution_count": 10,
   "metadata": {},
   "outputs": [],
   "source": [
    "def checar_se_eh_parametrica(dados):\n",
    "  test_stat, p_value = stats.normaltest(dados)\n",
    "  print(\"p value:%.4f\" % p_value)\n",
    "  if p_value >= 0.05:\n",
    "      print(\"É paramétrico\")\n",
    "  else:\n",
    "    print(\"Não é paramétrico\")"
   ]
  },
  {
   "cell_type": "code",
   "execution_count": 11,
   "metadata": {},
   "outputs": [
    {
     "name": "stdout",
     "output_type": "stream",
     "text": [
      "p value:0.0169\n",
      "Não é paramétrico\n"
     ]
    }
   ],
   "source": [
    "checar_se_eh_parametrica(test_team)"
   ]
  },
  {
   "cell_type": "code",
   "execution_count": 12,
   "metadata": {},
   "outputs": [
    {
     "name": "stdout",
     "output_type": "stream",
     "text": [
      "p value:0.0002\n",
      "Não é paramétrico\n"
     ]
    }
   ],
   "source": [
    "checar_se_eh_parametrica(developer_team)"
   ]
  },
  {
   "cell_type": "code",
   "execution_count": 20,
   "metadata": {},
   "outputs": [
    {
     "name": "stdout",
     "output_type": "stream",
     "text": [
      "U-statistic: 151.5000\n",
      "P-value: 0.4113\n",
      "Não rejeitamos a hipótese nula: Não há evidências suficientes para afirmar que um time está fazendo mais horas extras que o outro.\n"
     ]
    }
   ],
   "source": [
    "# Realizar o teste Mann Whitney\n",
    "u_stat, p_value = stats.mannwhitneyu(test_team, developer_team, alternative = \"greater\")\n",
    "# Exibir os resultados\n",
    "print(f\"U-statistic: {u_stat:.4f}\")\n",
    "print(f\"P-value: {p_value:.4f}\")\n",
    "\n",
    "# Verificar o resultado do teste com o nível de significância de 0.05\n",
    "if p_value < 0.05:\n",
    "    print(\"Rejeita a hipótese nula: Há evidências de que um time está fazendo mais horas extras que o outro.\")\n",
    "else:\n",
    "    print(\"Não rejeita a hipótese nula: Não há evidências suficientes para afirmar que um time está fazendo mais horas extras que o outro.\")"
   ]
  }
 ],
 "metadata": {
  "kernelspec": {
   "display_name": "Python 3",
   "language": "python",
   "name": "python3"
  },
  "language_info": {
   "codemirror_mode": {
    "name": "ipython",
    "version": 3
   },
   "file_extension": ".py",
   "mimetype": "text/x-python",
   "name": "python",
   "nbconvert_exporter": "python",
   "pygments_lexer": "ipython3",
   "version": "3.12.0"
  }
 },
 "nbformat": 4,
 "nbformat_minor": 2
}
