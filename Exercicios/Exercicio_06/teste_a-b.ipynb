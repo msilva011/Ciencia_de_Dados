{
 "cells": [
  {
   "cell_type": "code",
   "execution_count": 21,
   "metadata": {},
   "outputs": [],
   "source": [
    "import numpy as np\n",
    "import pandas as pd\n",
    "import statsmodels.api as sm\n",
    "import scipy.stats as stats\n",
    "from math import ceil"
   ]
  },
  {
   "cell_type": "code",
   "execution_count": 22,
   "metadata": {},
   "outputs": [],
   "source": [
    "# Função para calcular o tamanho da amostra\n",
    "def calcular_tamanho_amostra(taxa_conversao_controle, taxa_conversao_variacao, nivel_confianca, poder):\n",
    "    tamanho_efeito = sm.stats.proportion_effectsize(taxa_conversao_controle, taxa_conversao_variacao)\n",
    "    tamanho_amostra = sm.stats.NormalIndPower().solve_power(tamanho_efeito, power=poder, alpha=(1 - nivel_confianca))\n",
    "    return ceil(tamanho_amostra)"
   ]
  },
  {
   "cell_type": "code",
   "execution_count": 23,
   "metadata": {},
   "outputs": [],
   "source": [
    "# Função para realizar o teste A/B\n",
    "def realizar_teste_ab(taxa_conversao_controle, taxa_conversao_variacao, tamanho_amostra, nivel_confianca):\n",
    "    escore_z = stats.norm.ppf(1 - (1 - nivel_confianca) / 2)\n",
    "    erro_padrao = np.sqrt(taxa_conversao_controle * (1 - taxa_conversao_controle) / tamanho_amostra)\n",
    "    margem_erro = escore_z * erro_padrao\n",
    "\n",
    "    limite_inferior = taxa_conversao_variacao - margem_erro\n",
    "    limite_superior = taxa_conversao_variacao + margem_erro\n",
    "\n",
    "    return round(limite_inferior, 2), round(limite_superior, 2)\n"
   ]
  },
  {
   "cell_type": "code",
   "execution_count": 24,
   "metadata": {},
   "outputs": [],
   "source": [
    "# Configurações do teste\n",
    "taxa_conversao_controle = 0.13\n",
    "taxa_conversao_variacao_desejada = 0.16\n",
    "niveis_confianca = [0.95, 0.99, 0.9999]\n",
    "poderes = [0.8, 0.9]"
   ]
  },
  {
   "cell_type": "code",
   "execution_count": 25,
   "metadata": {},
   "outputs": [
    {
     "name": "stdout",
     "output_type": "stream",
     "text": [
      "Nível de Confiança: 0.95, Poder: 0.8\n",
      "Tamanho da Amostra: 2158\n",
      "Taxa de Conversão Estimada: 16.0%\n",
      "Intervalo de Confiança: [15.0%, 17.0%]\n",
      "\n",
      "Nível de Confiança: 0.95, Poder: 0.9\n",
      "Tamanho da Amostra: 2888\n",
      "Taxa de Conversão Estimada: 16.0%\n",
      "Intervalo de Confiança: [15.0%, 17.0%]\n",
      "\n",
      "Nível de Confiança: 0.99, Poder: 0.8\n",
      "Tamanho da Amostra: 3210\n",
      "Taxa de Conversão Estimada: 16.0%\n",
      "Intervalo de Confiança: [14.000000000000002%, 18.0%]\n",
      "\n",
      "Nível de Confiança: 0.99, Poder: 0.9\n",
      "Tamanho da Amostra: 4090\n",
      "Taxa de Conversão Estimada: 16.0%\n",
      "Intervalo de Confiança: [15.0%, 17.0%]\n",
      "\n",
      "Nível de Confiança: 0.9999, Poder: 0.8\n",
      "Tamanho da Amostra: 6155\n",
      "Taxa de Conversão Estimada: 16.0%\n",
      "Intervalo de Confiança: [14.000000000000002%, 18.0%]\n",
      "\n",
      "Nível de Confiança: 0.9999, Poder: 0.9\n",
      "Tamanho da Amostra: 7352\n",
      "Taxa de Conversão Estimada: 16.0%\n",
      "Intervalo de Confiança: [14.000000000000002%, 18.0%]\n",
      "\n"
     ]
    }
   ],
   "source": [
    "for nivel_confianca in niveis_confianca:\n",
    "    for poder in poderes:\n",
    "        tamanho_amostra = calcular_tamanho_amostra(taxa_conversao_controle, taxa_conversao_variacao_desejada, nivel_confianca, poder)\n",
    "        limite_inferior, limite_superior = realizar_teste_ab(taxa_conversao_controle, taxa_conversao_variacao_desejada, tamanho_amostra, nivel_confianca)\n",
    "        \n",
    "        print(f\"Nível de Confiança: {nivel_confianca}, Poder: {poder}\")\n",
    "        print(f\"Tamanho da Amostra: {tamanho_amostra}\")\n",
    "        print(f\"Taxa de Conversão Estimada: {taxa_conversao_variacao_desejada * 100}%\")\n",
    "        print(f\"Intervalo de Confiança: [{limite_inferior * 100}%, {limite_superior * 100}%]\\n\")\n"
   ]
  }
 ],
 "metadata": {
  "kernelspec": {
   "display_name": "Python 3",
   "language": "python",
   "name": "python3"
  },
  "language_info": {
   "codemirror_mode": {
    "name": "ipython",
    "version": 3
   },
   "file_extension": ".py",
   "mimetype": "text/x-python",
   "name": "python",
   "nbconvert_exporter": "python",
   "pygments_lexer": "ipython3",
   "version": "3.11.5"
  }
 },
 "nbformat": 4,
 "nbformat_minor": 2
}
