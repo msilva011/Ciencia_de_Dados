{
 "cells": [
  {
   "cell_type": "code",
   "execution_count": 1,
   "metadata": {},
   "outputs": [
    {
     "name": "stdout",
     "output_type": "stream",
     "text": [
      "Tamanho do efeito (Cohen's h): -0.08530772368172723\n",
      "Confiança: 95.00% | Poder: 80.0% -> Tamanho da amostra necessário: 2158\n",
      "Confiança: 95.00% | Poder: 90.0% -> Tamanho da amostra necessário: 2888\n",
      "Confiança: 99.00% | Poder: 80.0% -> Tamanho da amostra necessário: 3210\n",
      "Confiança: 99.00% | Poder: 90.0% -> Tamanho da amostra necessário: 4090\n",
      "Confiança: 99.99% | Poder: 80.0% -> Tamanho da amostra necessário: 6155\n",
      "Confiança: 99.99% | Poder: 90.0% -> Tamanho da amostra necessário: 7352\n"
     ]
    }
   ],
   "source": [
    "# Importando pacotes\n",
    "import numpy as np\n",
    "import statsmodels.stats.api as sms\n",
    "from math import ceil\n",
    "\n",
    "# Definindo a diferença de conversão\n",
    "# Conversão inicial: 13% -> 0.13\n",
    "# Conversão desejada: 16% -> 0.16\n",
    "effect_size = sms.proportion_effectsize(0.13, 0.16)\n",
    "print(\"Tamanho do efeito (Cohen's h):\", effect_size)\n",
    "\n",
    "# Função para calcular o tamanho da amostra necessária\n",
    "def calcular_tamanho_amostra(nivel_confianca, power):\n",
    "    alpha = 1 - nivel_confianca\n",
    "    required_n = sms.NormalIndPower().solve_power(\n",
    "        effect_size,\n",
    "        power=power,   # poder do teste (1 - beta)\n",
    "        alpha=alpha,   # nível de significância\n",
    "        ratio=1,       # proporção de amostras entre grupos A e B\n",
    "        alternative='two-sided'  # teste bilateral\n",
    "    )\n",
    "    return ceil(required_n)\n",
    "\n",
    "# Níveis de confiança e poderes a serem testados\n",
    "nivel_confiancas = [0.95, 0.99, 0.9999]\n",
    "powers = [0.80, 0.90]\n",
    "\n",
    "# Calculando o tamanho da amostra para cada combinação de confiança e poder\n",
    "for nivel_confianca in nivel_confiancas:\n",
    "    for power in powers:\n",
    "        required_n = calcular_tamanho_amostra(nivel_confianca, power)\n",
    "        print(f\"Confiança: {nivel_confianca*100:.2f}% | Poder: {power*100}% -> Tamanho da amostra necessário: {required_n}\")\n"
   ]
  },
  {
   "cell_type": "markdown",
   "metadata": {},
   "source": [
    "Em outro experimento, tivemos os seguintes resultados:\n",
    "\n",
    "|-|A - Controle|B - Experimento|\n",
    "|---|---|---|\n",
    "|Convertidos|223|45|\n",
    "|Total|1324|123|\n"
   ]
  },
  {
   "cell_type": "markdown",
   "metadata": {},
   "source": [
    "1. Defina as hipóteses para Qui-Quadrado\n",
    "2. Qual a consequência de um Erro tipo I? E um tipo II?\n",
    "3. Calcule o p-valor do teste chi-quadrado. Aceitamos ou rejeitamos a hipótese nula? Justifique as consequências da escolha"
   ]
  },
  {
   "cell_type": "code",
   "execution_count": 3,
   "metadata": {},
   "outputs": [
    {
     "name": "stdout",
     "output_type": "stream",
     "text": [
      "expected frequencies:\n",
      "  [[ 245.22 1078.78]\n",
      " [  22.78  100.22]]\n",
      "graus de liberdade:  1\n",
      "test stat: 29.0680\n",
      "p-valor: 0.00000007\n"
     ]
    }
   ],
   "source": [
    "import numpy as np\n",
    "from scipy.stats import chi2_contingency\n",
    "\n",
    "# Criando a tabela de contingência\n",
    "# [Convertidos, Não Convertidos]\n",
    "obs = np.array([[223, 1324 - 223], \n",
    "                 [45, 123 - 45]])\n",
    "\n",
    "# Aplicando o teste qui-quadrado\n",
    "chi2, p, graus_liberdade, ex = chi2_contingency(obs, correction=False)\n",
    "\n",
    "# Exibindo os resultados\n",
    "print(\"expected frequencies:\\n \", np.round(ex,2))\n",
    "print(\"graus de liberdade: \", graus_liberdade)\n",
    "print(\"test stat: %.4f\" % chi2)\n",
    "print(\"p-valor: %.8f\" % p)\n"
   ]
  },
  {
   "cell_type": "markdown",
   "metadata": {},
   "source": [
    "1)\n",
    "- Hipótese Nula (H₀): Não há diferença significativa entre grupo A e do grupo B. Ou seja, a taxa de conversão no grupo controle é igual à do grupo de experimento;\n",
    "- Hipótese Alternativa (H₁): Existe uma diferença significativa entre as taxas de conversão do grupo de A e do grupo de B. Ou seja, as taxas de conversão são diferentes."
   ]
  },
  {
   "cell_type": "markdown",
   "metadata": {},
   "source": [
    "2)\n",
    "- Erro Tipo I (Falso Positivo): Rejeitar a hipótese nula (H₀) quando ela é verdadeira. A consequência seria concluir que a variação (B) tem um efeito significativo sobre a conversão, quando na verdade não tem. Isso pode levar a implementar mudanças desnecessárias que não melhoram a conversão.\n",
    "\n",
    "- Erro Tipo II (Falso Negativo): Não rejeitar a hipótese nula (H₀) quando ela é falsa. A consequência seria deixar de identificar uma variação que realmente melhora a conversão, perdendo a oportunidade de otimizar o desempenho do site."
   ]
  },
  {
   "cell_type": "markdown",
   "metadata": {},
   "source": [
    "3)\n",
    "\n",
    "Dado que o p-valor é pequeno ele está muito abaixo dos níveis de significância comuns (0,05, 0,01, e até 0,001). Portanto, rejeitamos a hipótese nula (H₀).\n",
    "Existe uma diferença significativa entre as taxas de conversão dos grupos de controle e experimento. A variação no grupo B (Experimento) parece ter um efeito real nas conversões."
   ]
  },
  {
   "cell_type": "markdown",
   "metadata": {},
   "source": []
  }
 ],
 "metadata": {
  "kernelspec": {
   "display_name": "Python 3",
   "language": "python",
   "name": "python3"
  },
  "language_info": {
   "codemirror_mode": {
    "name": "ipython",
    "version": 3
   },
   "file_extension": ".py",
   "mimetype": "text/x-python",
   "name": "python",
   "nbconvert_exporter": "python",
   "pygments_lexer": "ipython3",
   "version": "3.12.0"
  }
 },
 "nbformat": 4,
 "nbformat_minor": 2
}
