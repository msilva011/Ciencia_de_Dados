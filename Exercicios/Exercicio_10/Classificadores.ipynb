{
 "cells": [
  {
   "cell_type": "code",
   "execution_count": 40,
   "metadata": {},
   "outputs": [],
   "source": [
    "import pandas as pd\n",
    "from sklearn.model_selection import train_test_split\n",
    "from sklearn.preprocessing import StandardScaler, OneHotEncoder\n",
    "from sklearn.compose import ColumnTransformer\n",
    "from sklearn.pipeline import Pipeline\n",
    "from sklearn.neural_network import MLPClassifier\n",
    "from sklearn.svm import SVC\n",
    "from sklearn.naive_bayes import GaussianNB\n",
    "from sklearn.neighbors import KNeighborsClassifier\n",
    "from sklearn.metrics import accuracy_score, precision_score, recall_score, f1_score"
   ]
  },
  {
   "cell_type": "code",
   "execution_count": 41,
   "metadata": {},
   "outputs": [],
   "source": [
    "url = \"https://raw.githubusercontent.com/celsocrivelaro/simple-datasets/main/user_data.csv\"\n",
    "dados = pd.read_csv(url)"
   ]
  },
  {
   "cell_type": "code",
   "execution_count": 42,
   "metadata": {},
   "outputs": [],
   "source": [
    "dados = dados.drop('User ID', axis=1)\n",
    "\n",
    "X = dados.drop('Purchased', axis=1)\n",
    "y = dados['Purchased']"
   ]
  },
  {
   "cell_type": "code",
   "execution_count": 43,
   "metadata": {},
   "outputs": [],
   "source": [
    "# Dividir os dados em conjunto de treino e teste\n",
    "X_train, X_test, y_train, y_test = train_test_split(X, y, test_size=0.2, random_state=42)"
   ]
  },
  {
   "cell_type": "code",
   "execution_count": 44,
   "metadata": {},
   "outputs": [],
   "source": [
    "# Definir pré-processamento usando ColumnTransformer e Pipeline\n",
    "numeric_features = ['Age', 'EstimatedSalary']\n",
    "categorical_features = ['Gender']\n",
    "\n",
    "preprocessor = ColumnTransformer(\n",
    "    transformers=[\n",
    "        ('num', StandardScaler(), numeric_features),\n",
    "        ('cat', OneHotEncoder(), categorical_features)\n",
    "    ],\n",
    "    remainder='passthrough'  # Inclui colunas não transformadas no resultado\n",
    ")"
   ]
  },
  {
   "cell_type": "code",
   "execution_count": 45,
   "metadata": {},
   "outputs": [],
   "source": [
    "# Inicializar os Classificadores com pré-processamento\n",
    "classificadores = {\n",
    "    'Redes Neurais': MLPClassifier(random_state=42),\n",
    "    'SVM': SVC(random_state=42),\n",
    "    'Naive Bayes': GaussianNB(),\n",
    "    'KNN': KNeighborsClassifier()\n",
    "}"
   ]
  },
  {
   "cell_type": "code",
   "execution_count": 46,
   "metadata": {},
   "outputs": [
    {
     "name": "stderr",
     "output_type": "stream",
     "text": [
      "c:\\Users\\mrsilva\\AppData\\Local\\Programs\\Python\\Python311\\Lib\\site-packages\\sklearn\\neural_network\\_multilayer_perceptron.py:691: ConvergenceWarning: Stochastic Optimizer: Maximum iterations (200) reached and the optimization hasn't converged yet.\n",
      "  warnings.warn(\n"
     ]
    }
   ],
   "source": [
    "# Treinar e Avaliar os Classificadores\n",
    "resultados = {}\n",
    "\n",
    "for nome, clf in classificadores.items():\n",
    "    # Criar um pipeline que inclui o pré-processamento e o classificador\n",
    "    model = Pipeline(steps=[('preprocessor', preprocessor), ('classifier', clf)])\n",
    "    \n",
    "    # Treinar o classificador\n",
    "    model.fit(X_train, y_train)\n",
    "\n",
    "    # Fazer previsões no conjunto de teste\n",
    "    y_pred = model.predict(X_test)\n",
    "\n",
    "    # Calcular métricas\n",
    "    acuracia = accuracy_score(y_test, y_pred)\n",
    "    precisao = precision_score(y_test, y_pred)\n",
    "    recall = recall_score(y_test, y_pred)\n",
    "    f1 = f1_score(y_test, y_pred)\n",
    "\n",
    "    # Armazenar resultados\n",
    "    resultados[nome] = {'Acurácia': acuracia, 'Precisão': precisao, 'Recall': recall, 'F1-Score': f1}"
   ]
  },
  {
   "cell_type": "code",
   "execution_count": 47,
   "metadata": {},
   "outputs": [
    {
     "name": "stdout",
     "output_type": "stream",
     "text": [
      "\n",
      "Classificador: Redes Neurais\n",
      "Acurácia: 0.9375\n",
      "Precisão: 0.8966\n",
      "Recall: 0.9286\n",
      "F1-Score: 0.9123\n",
      "\n",
      "Classificador: SVM\n",
      "Acurácia: 0.9250\n",
      "Precisão: 0.8667\n",
      "Recall: 0.9286\n",
      "F1-Score: 0.8966\n",
      "\n",
      "Classificador: Naive Bayes\n",
      "Acurácia: 0.9250\n",
      "Precisão: 0.9231\n",
      "Recall: 0.8571\n",
      "F1-Score: 0.8889\n",
      "\n",
      "Classificador: KNN\n",
      "Acurácia: 0.9250\n",
      "Precisão: 0.8667\n",
      "Recall: 0.9286\n",
      "F1-Score: 0.8966\n"
     ]
    }
   ],
   "source": [
    "# Exibir Resultados\n",
    "for nome, metricas in resultados.items():\n",
    "    print(f\"\\nClassificador: {nome}\")\n",
    "    for metrica, valor in metricas.items():\n",
    "        print(f\"{metrica}: {valor:.4f}\")\n"
   ]
  }
 ],
 "metadata": {
  "kernelspec": {
   "display_name": "Python 3",
   "language": "python",
   "name": "python3"
  },
  "language_info": {
   "codemirror_mode": {
    "name": "ipython",
    "version": 3
   },
   "file_extension": ".py",
   "mimetype": "text/x-python",
   "name": "python",
   "nbconvert_exporter": "python",
   "pygments_lexer": "ipython3",
   "version": "3.11.5"
  }
 },
 "nbformat": 4,
 "nbformat_minor": 2
}
